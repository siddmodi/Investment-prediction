{
 "cells": [
  {
   "cell_type": "code",
   "execution_count": 138,
   "metadata": {
    "id": "hjPXs9fuomTq"
   },
   "outputs": [],
   "source": [
    "#1. Automate the process of saving dataframe from all csv in database with proper naming conviction of csv file and rows and columns\n",
    "#2. Run for next 50 too\n",
    "#2. upload this dataframe on kaggle"
   ]
  },
  {
   "cell_type": "code",
   "execution_count": 139,
   "metadata": {
    "colab": {
     "base_uri": "https://localhost:8080/"
    },
    "id": "ih2Q1eJT662X",
    "outputId": "5964ea39-eb3f-4fdd-8025-e9c5cd4e2cd3"
   },
   "outputs": [
    {
     "name": "stdout",
     "output_type": "stream",
     "text": [
      "Requirement already satisfied: yfinance in /usr/local/lib/python3.7/dist-packages (0.1.70)\n",
      "Requirement already satisfied: multitasking>=0.0.7 in /usr/local/lib/python3.7/dist-packages (from yfinance) (0.0.10)\n",
      "Requirement already satisfied: lxml>=4.5.1 in /usr/local/lib/python3.7/dist-packages (from yfinance) (4.8.0)\n",
      "Requirement already satisfied: pandas>=0.24.0 in /usr/local/lib/python3.7/dist-packages (from yfinance) (1.3.5)\n",
      "Requirement already satisfied: numpy>=1.15 in /usr/local/lib/python3.7/dist-packages (from yfinance) (1.21.5)\n",
      "Requirement already satisfied: requests>=2.26 in /usr/local/lib/python3.7/dist-packages (from yfinance) (2.27.1)\n",
      "Requirement already satisfied: pytz>=2017.3 in /usr/local/lib/python3.7/dist-packages (from pandas>=0.24.0->yfinance) (2018.9)\n",
      "Requirement already satisfied: python-dateutil>=2.7.3 in /usr/local/lib/python3.7/dist-packages (from pandas>=0.24.0->yfinance) (2.8.2)\n",
      "Requirement already satisfied: six>=1.5 in /usr/local/lib/python3.7/dist-packages (from python-dateutil>=2.7.3->pandas>=0.24.0->yfinance) (1.15.0)\n",
      "Requirement already satisfied: charset-normalizer~=2.0.0 in /usr/local/lib/python3.7/dist-packages (from requests>=2.26->yfinance) (2.0.12)\n",
      "Requirement already satisfied: idna<4,>=2.5 in /usr/local/lib/python3.7/dist-packages (from requests>=2.26->yfinance) (2.10)\n",
      "Requirement already satisfied: certifi>=2017.4.17 in /usr/local/lib/python3.7/dist-packages (from requests>=2.26->yfinance) (2021.10.8)\n",
      "Requirement already satisfied: urllib3<1.27,>=1.21.1 in /usr/local/lib/python3.7/dist-packages (from requests>=2.26->yfinance) (1.24.3)\n"
     ]
    }
   ],
   "source": [
    "!pip install yfinance --upgrade --no-cache-dir"
   ]
  },
  {
   "cell_type": "code",
   "execution_count": 140,
   "metadata": {
    "id": "Zybnmrp67A_J"
   },
   "outputs": [],
   "source": [
    "from google.colab import files\n",
    "import yfinance as yf\n",
    "import numpy as np\n",
    "import pandas as pd\n",
    "import requests\n",
    "from bs4 import BeautifulSoup\n",
    "import datetime as dt"
   ]
  },
  {
   "cell_type": "code",
   "execution_count": 141,
   "metadata": {
    "id": "lt_pUGfKomUc"
   },
   "outputs": [],
   "source": [
    "l1 = ['ONGC.NS'] # For example"
   ]
  },
  {
   "cell_type": "code",
   "execution_count": 142,
   "metadata": {
    "colab": {
     "base_uri": "https://localhost:8080/"
    },
    "collapsed": true,
    "id": "oNEc_rVt03xN",
    "outputId": "e0a89a05-066c-4f9a-fc06-ea8caf7b7fe8"
   },
   "outputs": [
    {
     "name": "stdout",
     "output_type": "stream",
     "text": [
      "(37,)\n",
      "\r",
      "[*********************100%***********************]  1 of 1 completed\n",
      "2022-03-23 17:23:46.302585\n",
      "2022-03-22 17:23:46.302585\n",
      "[*********************100%***********************]  1 of 1 completed\n",
      "2022-03-22 17:23:46.465305\n",
      "2022-03-21 17:23:46.465305\n",
      "[*********************100%***********************]  1 of 1 completed\n",
      "2022-03-21 17:23:46.633092\n",
      "2022-03-20 17:23:46.633092\n",
      "[*********************100%***********************]  1 of 1 completed\n",
      "\n",
      "1 Failed download:\n",
      "- ONGC.NS: No data found for this date range, symbol may be delisted\n",
      "2022-03-20 17:23:46.788112\n",
      "2022-03-19 17:23:46.788112\n",
      "[*********************100%***********************]  1 of 1 completed\n",
      "\n",
      "1 Failed download:\n",
      "- ONGC.NS: No data found for this date range, symbol may be delisted\n",
      "2022-03-19 17:23:46.944930\n",
      "2022-03-18 17:23:46.944930\n",
      "[*********************100%***********************]  1 of 1 completed\n",
      "2022-03-18 17:23:47.090392\n",
      "2022-03-17 17:23:47.090392\n",
      "[*********************100%***********************]  1 of 1 completed\n",
      "2022-03-17 17:23:47.243006\n",
      "2022-03-16 17:23:47.243006\n",
      "[*********************100%***********************]  1 of 1 completed\n",
      "2022-03-16 17:23:47.413124\n",
      "2022-03-15 17:23:47.413124\n",
      "                  Open        High         Low       Close   Adj Close  \\\n",
      "Date                                                                     \n",
      "2022-03-15  168.300003  169.500000  161.649994  163.750000  163.750000   \n",
      "2022-03-16  166.000000  167.850006  161.850006  167.300003  167.300003   \n",
      "\n",
      "              Volume  \n",
      "Date                  \n",
      "2022-03-15  42333127  \n",
      "2022-03-16  25545119  \n",
      "   index        Open        High         Low       Close   Adj Close  \\\n",
      "0      0  176.199997  181.250000  173.800003  175.449997  175.449997   \n",
      "1      1  176.500000  177.699997  174.850006  175.600006  175.600006   \n",
      "2      2  171.699997  175.000000  170.300003  172.550003  172.550003   \n",
      "3      3  176.199997  181.250000  173.800003  175.449997  175.449997   \n",
      "4      4  171.699997  175.000000  170.300003  172.550003  172.550003   \n",
      "5      5  166.600006  171.500000  164.600006  170.300003  170.300003   \n",
      "6      6  166.000000  167.850006  161.850006  167.300003  167.300003   \n",
      "7      7  166.600006  171.500000  164.600006  170.300003  170.300003   \n",
      "8      8  168.300003  169.500000  161.649994  163.750000  163.750000   \n",
      "9      9  166.000000  167.850006  161.850006  167.300003  167.300003   \n",
      "\n",
      "       Volume  \n",
      "0  39742745.0  \n",
      "1  10989979.0  \n",
      "2  20614652.0  \n",
      "3  39742745.0  \n",
      "4  20614652.0  \n",
      "5  66314748.0  \n",
      "6  25545119.0  \n",
      "7  66314748.0  \n",
      "8  42333127.0  \n",
      "9  25545119.0  \n",
      "(37,)\n",
      "(37,)\n",
      "[176.19999695 181.25       173.80000305 175.44999695 176.5\n",
      " 177.69999695 174.8500061  175.6000061  171.69999695 175.\n",
      " 170.30000305 172.55000305 176.19999695 181.25       173.80000305\n",
      " 175.44999695 171.69999695 175.         170.30000305 172.55000305\n",
      " 166.6000061  171.5        164.6000061  170.30000305 166.\n",
      " 167.8500061  161.8500061  167.30000305 166.6000061  171.5\n",
      " 164.6000061  170.30000305 168.30000305 169.5        161.6499939\n",
      " 163.75         1.        ]\n",
      "[[  0.         176.19999695]\n",
      " [  0.         181.25      ]\n",
      " [  0.         173.80000305]\n",
      " [  0.         175.44999695]\n",
      " [  0.         176.5       ]\n",
      " [  0.         177.69999695]\n",
      " [  0.         174.8500061 ]\n",
      " [  0.         175.6000061 ]\n",
      " [  0.         171.69999695]\n",
      " [  0.         175.        ]\n",
      " [  0.         170.30000305]\n",
      " [  0.         172.55000305]\n",
      " [  0.         176.19999695]\n",
      " [  0.         181.25      ]\n",
      " [  0.         173.80000305]\n",
      " [  0.         175.44999695]\n",
      " [  0.         171.69999695]\n",
      " [  0.         175.        ]\n",
      " [  0.         170.30000305]\n",
      " [  0.         172.55000305]\n",
      " [  0.         166.6000061 ]\n",
      " [  0.         171.5       ]\n",
      " [  0.         164.6000061 ]\n",
      " [  0.         170.30000305]\n",
      " [  0.         166.        ]\n",
      " [  0.         167.8500061 ]\n",
      " [  0.         161.8500061 ]\n",
      " [  0.         167.30000305]\n",
      " [  0.         166.6000061 ]\n",
      " [  0.         171.5       ]\n",
      " [  0.         164.6000061 ]\n",
      " [  0.         170.30000305]\n",
      " [  0.         168.30000305]\n",
      " [  0.         169.5       ]\n",
      " [  0.         161.6499939 ]\n",
      " [  0.         163.75      ]\n",
      " [  0.           1.        ]]\n"
     ]
    }
   ],
   "source": [
    "for j in l1:\n",
    "    global_array=np.array([0]*37)\n",
    "    print(global_array.shape)\n",
    "\n",
    "    for i in range(1):\n",
    "        end=dt.datetime.today()-dt.timedelta(i)\n",
    "        temp_df=pd.DataFrame()\n",
    "        x=0\n",
    "        while(len(temp_df)<10):\n",
    "            end2=dt.datetime.today()-dt.timedelta(x+i)\n",
    "            start=end2-dt.timedelta(1)\n",
    "            data = yf.download(j,start,end2)\n",
    "            #print(data)\n",
    "            print(end2)\n",
    "            #print(temp_df)\n",
    "            print(start)\n",
    "            temp_df=temp_df.append(data,ignore_index=True)\n",
    "            x+=1\n",
    "        print(data)\n",
    "        data=pd.DataFrame(temp_df)\n",
    "        final_row=data.iloc[9,:]\n",
    "        target=int(final_row['Close']>final_row['Open'])\n",
    "        data.reset_index(inplace=True)\n",
    "        print(data)\n",
    "        data=data[0:9].drop(columns={'index','Volume','Adj Close'},axis=1)\n",
    "        array=data.values.flatten()\n",
    "        array=np.append(array,target)\n",
    "        print(array.shape)\n",
    "        print(global_array.shape)\n",
    "        print(array)\n",
    "        global_array=np.column_stack((global_array,array))\n",
    "        print(global_array)\n",
    "    df=pd.DataFrame(global_array)\n",
    "    df"
   ]
  },
  {
   "cell_type": "code",
   "execution_count": 143,
   "metadata": {
    "colab": {
     "base_uri": "https://localhost:8080/"
    },
    "id": "wpbZ8YHOF5Nv",
    "outputId": "7337c3c1-41b2-48b2-92db-53e12c0fe71b"
   },
   "outputs": [
    {
     "name": "stdout",
     "output_type": "stream",
     "text": [
      "[*********************100%***********************]  1 of 1 completed\n",
      "[*********************100%***********************]  1 of 1 completed\n"
     ]
    }
   ],
   "source": [
    "if yf.download(l1[0],period='1d').empty:\n",
    "    df2 = df.T\n",
    "    df2.drop(0,inplace=True)\n",
    "    df2.drop([36],axis=1,inplace=True)\n",
    "else:\n",
    "    df = df.T\n",
    "    df.drop(0,inplace=True)\n",
    "    df.drop([0,1,2,3,36],axis=1,inplace=True)\n",
    "\n",
    "    df1 = pd.DataFrame(yf.download(l1,period='1d')).drop(['Adj Close','Volume'],axis=1,)\n",
    "    df1 = df1.reset_index()[['Open','High','Low','Close']]\n",
    "    df1.rename(columns = {'Open':36, 'High':37,'Low':38,'Close':39 }, inplace = True)\n",
    "\n",
    "    df = df.reset_index(drop=True)\n",
    "    df1 = df1.reset_index(drop=True)\n",
    "    df2 = pd.concat([df,df1],axis=1)\n",
    "\n",
    "    dick={}\n",
    "\n",
    "    x=[]\n",
    "    for i in range(36):\n",
    "        x.append(str(i))\n",
    "\n",
    "    y=[]\n",
    "    for i in range(4,40):\n",
    "        y.append(i)\n",
    "\n",
    "    for i,j in zip(y,x):\n",
    "        dick[i]=j\n",
    "\n",
    "    df2.rename(columns=dick,inplace=True)\n",
    "    df2"
   ]
  },
  {
   "cell_type": "code",
   "execution_count": null,
   "metadata": {
    "id": "_eCzvPVAzp3W"
   },
   "outputs": [],
   "source": []
  }
 ],
 "metadata": {
  "colab": {
   "collapsed_sections": [],
   "name": "Fetching Data API - Copy.ipynb",
   "provenance": []
  },
  "kernelspec": {
   "display_name": "Python 3",
   "language": "python",
   "name": "python3"
  },
  "language_info": {
   "codemirror_mode": {
    "name": "ipython",
    "version": 3
   },
   "file_extension": ".py",
   "mimetype": "text/x-python",
   "name": "python",
   "nbconvert_exporter": "python",
   "pygments_lexer": "ipython3",
   "version": "3.7.0"
  }
 },
 "nbformat": 4,
 "nbformat_minor": 1
}
